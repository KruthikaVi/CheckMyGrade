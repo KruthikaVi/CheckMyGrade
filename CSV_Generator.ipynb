{
 "cells": [
  {
   "cell_type": "markdown",
   "metadata": {},
   "source": [
    "### Generate CSV files for random records"
   ]
  },
  {
   "cell_type": "code",
   "execution_count": 1,
   "metadata": {},
   "outputs": [],
   "source": [
    "def add_grade(marks):\n",
    "    marks = int(marks)\n",
    "    if marks >= 90:\n",
    "        grade = \"A\"\n",
    "    elif marks >= 80:\n",
    "        grade = \"B\"\n",
    "    elif marks >= 70:\n",
    "        grade = \"C\"\n",
    "    elif marks >= 60:\n",
    "        grade = \"D\"\n",
    "    else:\n",
    "        grade = \"F\"\n",
    "    return grade"
   ]
  },
  {
   "cell_type": "code",
   "execution_count": 2,
   "metadata": {},
   "outputs": [
    {
     "name": "stdout",
     "output_type": "stream",
     "text": [
      "CSV files generated successfully: Student.csv, Course.csv, Professor.csv, Login.csv\n"
     ]
    }
   ],
   "source": [
    "import csv\n",
    "import random\n",
    "import faker\n",
    "\n",
    "# Initialize the Faker library to generate fake data\n",
    "fake = faker.Faker()\n",
    "\n",
    "# Predefined values for courses and professors\n",
    "course_ids = [\"DATA200\", \"DATA201\", \"DATA202\", \"CSCI101\", \"MATH301\", \"ENGR202\", \"BIO150\"]\n",
    "course_names = [\"Python\", \"DataBase\", \"Data Science\", \"Computer Science\", \"Mathematics\", \"Engineering\", \"Biology\"]\n",
    "course_descriptions = [\n",
    "    \"Python basics\",\n",
    "    \"Database management system\",\n",
    "    \"Provides insight about DS and Python\", \n",
    "    \"Introduction to computer systems\", \n",
    "    \"Calculus and Linear Algebra\", \n",
    "    \"Mechanical engineering principles\", \n",
    "    \"Understanding living organisms\"\n",
    "]\n",
    "professor_names = [\"Micheal John\", \"Sarah Parker\", \"David Smith\", \"Linda White\", \"James Bond\"]\n",
    "professor_ranks = [\"Senior Professor\", \"Assistant Professor\", \"Professor\", \"Associate Professor\"]\n",
    "roles = [\"student\", \"professor\"]\n",
    "\n",
    "# Number of records to generate\n",
    "num_records = 1000\n",
    "\n",
    "# Create Student.csv\n",
    "with open('student.csv', mode='w', newline='') as student_file:\n",
    "    writer = csv.writer(student_file)\n",
    "    writer.writerow([\"Email_address\", \"First_name\", \"Last_name\", \"Course_id\", \"Grades\", \"Marks\"])  # Header row\n",
    "\n",
    "    for _ in range(num_records):\n",
    "        email_address = fake.email()\n",
    "        first_name = fake.first_name()\n",
    "        last_name = fake.last_name()\n",
    "        course_id = random.choice(course_ids)  # Ensure consistent course_id selection\n",
    "        marks = random.randint(50, 100)  # Marks between 50 and 100\n",
    "        grade = add_grade(marks)\n",
    "        writer.writerow([email_address, first_name, last_name, course_id, grade, marks])\n",
    "\n",
    "# Create Course.csv (with exact matching course_id)\n",
    "with open('course.csv', mode='w', newline='') as course_file:\n",
    "    writer = csv.writer(course_file)\n",
    "    writer.writerow([\"Course_id\", \"Course_name\", \"Description\"])  # Header row\n",
    "    \n",
    "    # Ensure each course_id from the list is added to the course CSV\n",
    "    for i in range(len(course_ids)):\n",
    "        course_id = course_ids[i]\n",
    "        course_name = course_names[i]\n",
    "        description = course_descriptions[i]\n",
    "        writer.writerow([course_id, course_name, description])\n",
    "\n",
    "# Create Professor.csv (with exact matching course_id)\n",
    "with open('professor.csv', mode='w', newline='') as professor_file:\n",
    "    writer = csv.writer(professor_file)\n",
    "    writer.writerow([\"Professor_id\", \"Professor_Name\", \"Rank\", \"Course.id\"])  # Header row\n",
    "    \n",
    "    # For each course_id, create a corresponding professor\n",
    "    for i in range(len(course_ids)):\n",
    "        course_id = course_ids[i]\n",
    "        professor_name = random.choice(professor_names)\n",
    "        rank = random.choice(professor_ranks)\n",
    "        writer.writerow([fake.email(), professor_name, rank, course_id])  # Fake email as Professor ID\n",
    "\n",
    "# Create Login.csv\n",
    "with open('login.csv', mode='w', newline='') as login_file:\n",
    "    writer = csv.writer(login_file)\n",
    "    writer.writerow([\"User_id\", \"Password\", \"Role\"])  # Header row\n",
    "    \n",
    "    # For professors\n",
    "    for _ in range(len(professor_names)):\n",
    "        email = fake.email()\n",
    "        password = fake.password()\n",
    "        role = \"professor\"\n",
    "        writer.writerow([email, password, role])\n",
    "\n",
    "    # For students (same number of records as in Student.csv)\n",
    "    for _ in range(num_records):\n",
    "        email = fake.email()\n",
    "        password = fake.password()\n",
    "        role = \"student\"\n",
    "        writer.writerow([email, password, role])\n",
    "\n",
    "print(\"CSV files generated successfully: Student.csv, Course.csv, Professor.csv, Login.csv\")\n"
   ]
  },
  {
   "cell_type": "code",
   "execution_count": null,
   "metadata": {},
   "outputs": [],
   "source": []
  }
 ],
 "metadata": {
  "kernelspec": {
   "display_name": "env",
   "language": "python",
   "name": "python3"
  },
  "language_info": {
   "codemirror_mode": {
    "name": "ipython",
    "version": 3
   },
   "file_extension": ".py",
   "mimetype": "text/x-python",
   "name": "python",
   "nbconvert_exporter": "python",
   "pygments_lexer": "ipython3",
   "version": "3.12.8"
  }
 },
 "nbformat": 4,
 "nbformat_minor": 2
}
